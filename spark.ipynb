{
 "cells": [
  {
   "cell_type": "code",
   "execution_count": 2,
   "metadata": {},
   "outputs": [],
   "source": [
    "from pyspark.sql import SparkSession\n",
    "from pyspark.sql.functions import col, when\n",
    "from pyspark import SparkConf, SparkContext"
   ]
  },
  {
   "cell_type": "code",
   "execution_count": 3,
   "metadata": {},
   "outputs": [
    {
     "name": "stdout",
     "output_type": "stream",
     "text": [
      "23/01/16 16:45:12 WARN Utils: Your hostname, conor-ubuntu-pc resolves to a loopback address: 127.0.1.1; using 192.168.0.29 instead (on interface wlp4s0)\n",
      "23/01/16 16:45:12 WARN Utils: Set SPARK_LOCAL_IP if you need to bind to another address\n"
     ]
    },
    {
     "name": "stderr",
     "output_type": "stream",
     "text": [
      "Setting default log level to \"WARN\".\n",
      "To adjust logging level use sc.setLogLevel(newLevel). For SparkR, use setLogLevel(newLevel).\n"
     ]
    },
    {
     "name": "stdout",
     "output_type": "stream",
     "text": [
      "23/01/16 16:45:12 WARN NativeCodeLoader: Unable to load native-hadoop library for your platform... using builtin-java classes where applicable\n"
     ]
    }
   ],
   "source": [
    "conf = SparkConf().setAppName(\"myApp\")\n",
    "sc = SparkContext(conf=conf)\n",
    "\n",
    "spark = SparkSession(sc)\n",
    "spark.conf.set(\"google.cloud.auth.service.account.enable\", \"true\")\n",
    "spark.conf.set(\"google.cloud.auth.service.account.json.keyfile\", \"config/sturdy-chimera-374511-73f24a51a3e4.json\")"
   ]
  },
  {
   "cell_type": "code",
   "execution_count": 5,
   "metadata": {},
   "outputs": [
    {
     "name": "stderr",
     "output_type": "stream",
     "text": [
      "                                                                                \r"
     ]
    },
    {
     "name": "stdout",
     "output_type": "stream",
     "text": [
      "+--------------+--------------------+----------+---------------+--------------------+-----+--------------------+--------------------+--------------------+--------------------+--------------------+\n",
      "|      category|         description|downloaded| follower_count|           image_src|index|   is_image_or_video|       save_location|            tag_list|               title|           unique_id|\n",
      "+--------------+--------------------+----------+---------------+--------------------+-----+--------------------+--------------------+--------------------+--------------------+--------------------+\n",
      "|       finance|Description Coupo...|         1|              0|https://i.pinimg....| 5730|               image|Local save in /da...|Grocery Items,Gro...|Island Oasis Coup...|1e1f0c8b-9fcf-460...|\n",
      "|diy-and-crafts|Keep the kids bus...|         1|           124k|https://i.pinimg....| 2863|               image|Local save in /da...|Summer Crafts For...|25 Super Fun Summ...|9bf39437-42a6-4f0...|\n",
      "|  mens-fashion|No description av...|         0|User Info Error|    Image src error.| 7528|multi-video(story...|Local save in /da...|N,o, ,T,a,g,s, ,A...|No Title Data Ava...|fbe53c66-3442-477...|\n",
      "+--------------+--------------------+----------+---------------+--------------------+-----+--------------------+--------------------+--------------------+--------------------+--------------------+\n",
      "\n"
     ]
    }
   ],
   "source": [
    "df1 = spark.read.json(\"gs://project-pin-api/*.json\")\n",
    "df1.show()"
   ]
  },
  {
   "cell_type": "code",
   "execution_count": 36,
   "metadata": {},
   "outputs": [
    {
     "name": "stdout",
     "output_type": "stream",
     "text": [
      "+--------------+--------------------+----------+--------------+--------------------+-----+-----------------+--------------------+--------------------+--------------------+--------------------+\n",
      "|      category|         description|downloaded|follower_count|           image_src|index|is_image_or_video|       save_location|            tag_list|               title|           unique_id|\n",
      "+--------------+--------------------+----------+--------------+--------------------+-----+-----------------+--------------------+--------------------+--------------------+--------------------+\n",
      "|diy-and-crafts|Keep the kids bus...|         1|          124k|https://i.pinimg....| 2863|            image|Local save in /da...|Summer Crafts For...|25 Super Fun Summ...|9bf39437-42a6-4f0...|\n",
      "+--------------+--------------------+----------+--------------+--------------------+-----+-----------------+--------------------+--------------------+--------------------+--------------------+\n",
      "\n"
     ]
    }
   ],
   "source": [
    "df2 = spark.read.json(\"gs://project-pin-api/ea6864d7-1228-4059-9e2d-aa560197f0cf.json\")\n",
    "df2.show()"
   ]
  },
  {
   "cell_type": "code",
   "execution_count": 34,
   "metadata": {},
   "outputs": [],
   "source": [
    "# Create a dictionary that maps columns to bad values\n",
    "bad_values = {\n",
    "    \"title\": \"No Title Data Available\",\n",
    "    \"description\": \"No description available Story format\",\n",
    "    \"follower_count\": \"User Info Error\",\n",
    "    \"tag_list\": \"N,o, ,T,a,g,s, ,A,v,a,i,l,a,b,l,e\",\n",
    "    \"image_src\": \"Image src error.\"\n",
    "}\n",
    "\n",
    "# Iterate over the dictionary and replace the bad values with null\n",
    "for column, bad_value in bad_values.items():\n",
    "    df1 = df1.withColumn(column, when(col(column) == bad_value, None).otherwise(col(column)))"
   ]
  },
  {
   "cell_type": "code",
   "execution_count": 35,
   "metadata": {},
   "outputs": [
    {
     "name": "stdout",
     "output_type": "stream",
     "text": [
      "+------------+-----------+----------+--------------+---------+-----+--------------------+--------------------+--------+-----+--------------------+\n",
      "|    category|description|downloaded|follower_count|image_src|index|   is_image_or_video|       save_location|tag_list|title|           unique_id|\n",
      "+------------+-----------+----------+--------------+---------+-----+--------------------+--------------------+--------+-----+--------------------+\n",
      "|mens-fashion|       null|         0|          null|     null| 7528|multi-video(story...|Local save in /da...|    null| null|fbe53c66-3442-477...|\n",
      "+------------+-----------+----------+--------------+---------+-----+--------------------+--------------------+--------+-----+--------------------+\n",
      "\n"
     ]
    }
   ],
   "source": [
    "df1.show()"
   ]
  },
  {
   "cell_type": "code",
   "execution_count": 17,
   "metadata": {},
   "outputs": [],
   "source": [
    "spark.stop()\n",
    "sc.stop()"
   ]
  }
 ],
 "metadata": {
  "kernelspec": {
   "display_name": "pintvenv",
   "language": "python",
   "name": "python3"
  },
  "language_info": {
   "codemirror_mode": {
    "name": "ipython",
    "version": 3
   },
   "file_extension": ".py",
   "mimetype": "text/x-python",
   "name": "python",
   "nbconvert_exporter": "python",
   "pygments_lexer": "ipython3",
   "version": "3.10.6 (main, Nov 14 2022, 16:10:14) [GCC 11.3.0]"
  },
  "orig_nbformat": 4,
  "vscode": {
   "interpreter": {
    "hash": "b2dfb412bb92c3f6d98902dba71fd50dd94f71449b5292dfd60f5f43cc440701"
   }
  }
 },
 "nbformat": 4,
 "nbformat_minor": 2
}
